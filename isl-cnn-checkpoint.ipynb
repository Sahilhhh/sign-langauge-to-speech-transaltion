{
 "cells": [
  {
   "cell_type": "code",
   "execution_count": 3,
   "metadata": {
    "execution": {
     "iopub.execute_input": "2023-05-08T09:14:43.418310Z",
     "iopub.status.busy": "2023-05-08T09:14:43.417966Z",
     "iopub.status.idle": "2023-05-08T09:14:43.423452Z",
     "shell.execute_reply": "2023-05-08T09:14:43.422651Z",
     "shell.execute_reply.started": "2023-05-08T09:14:43.418282Z"
    }
   },
   "outputs": [],
   "source": [
    "import tensorflow as tf\n",
    "from tensorflow import keras\n",
    "from tensorflow.keras import layers\n",
    "from tensorflow.keras.preprocessing.image import ImageDataGenerator\n",
    "import os"
   ]
  },
  {
   "cell_type": "code",
   "execution_count": 4,
   "metadata": {
    "execution": {
     "iopub.execute_input": "2023-05-08T09:14:47.142612Z",
     "iopub.status.busy": "2023-05-08T09:14:47.142260Z",
     "iopub.status.idle": "2023-05-08T09:14:47.148254Z",
     "shell.execute_reply": "2023-05-08T09:14:47.146786Z",
     "shell.execute_reply.started": "2023-05-08T09:14:47.142571Z"
    }
   },
   "outputs": [],
   "source": [
    "os.environ[\"CUDA_VISIBLE_DEVICES\"] = \"1\""
   ]
  },
  {
   "cell_type": "code",
   "execution_count": 5,
   "metadata": {
    "execution": {
     "iopub.execute_input": "2023-05-08T09:14:50.587866Z",
     "iopub.status.busy": "2023-05-08T09:14:50.587365Z",
     "iopub.status.idle": "2023-05-08T09:14:50.594865Z",
     "shell.execute_reply": "2023-05-08T09:14:50.593788Z",
     "shell.execute_reply.started": "2023-05-08T09:14:50.587826Z"
    }
   },
   "outputs": [],
   "source": [
    "img_height = 128\n",
    "img_width = 128\n",
    "batch_size = 10"
   ]
  },
  {
   "cell_type": "code",
   "execution_count": 6,
   "metadata": {
    "execution": {
     "iopub.execute_input": "2023-05-08T09:14:54.048303Z",
     "iopub.status.busy": "2023-05-08T09:14:54.047965Z",
     "iopub.status.idle": "2023-05-08T09:14:55.293924Z",
     "shell.execute_reply": "2023-05-08T09:14:55.293051Z",
     "shell.execute_reply.started": "2023-05-08T09:14:54.048274Z"
    }
   },
   "outputs": [
    {
     "name": "stdout",
     "output_type": "stream",
     "text": [
      "Found 12150 images belonging to 27 classes.\n",
      "Found 4050 images belonging to 27 classes.\n"
     ]
    }
   ],
   "source": [
    "train_datagen = tf.keras.preprocessing.image.ImageDataGenerator(\n",
    "        rescale=1./255,\n",
    "        rotation_range=10,\n",
    "        shear_range=0.2,\n",
    "        zoom_range=0.2,\n",
    "        horizontal_flip=True)\n",
    "\n",
    "test_datagen = tf.keras.preprocessing.image.ImageDataGenerator(rescale=1./255)\n",
    "\n",
    "training_set = train_datagen.flow_from_directory('/kaggle/input/isl-sls/data1/train',\n",
    "                                                 class_mode = 'categorical',\n",
    "                                                 batch_size = batch_size,\n",
    "                                                 target_size = (img_height, img_width),\n",
    "                                                 shuffle = True,\n",
    "                                                 color_mode='grayscale',\n",
    "                                                 )\n",
    "\n",
    "test_set = test_datagen.flow_from_directory('/kaggle/input/isl-sls/data1/test',\n",
    "                                            class_mode = 'categorical',\n",
    "                                            batch_size = batch_size,\n",
    "                                            target_size = (img_height, img_width),\n",
    "                                            shuffle = True,\n",
    "                                            color_mode='grayscale',\n",
    "                                            )"
   ]
  },
  {
   "cell_type": "code",
   "execution_count": 7,
   "metadata": {
    "execution": {
     "iopub.execute_input": "2023-05-08T09:14:59.909305Z",
     "iopub.status.busy": "2023-05-08T09:14:59.908952Z",
     "iopub.status.idle": "2023-05-08T09:15:00.449163Z",
     "shell.execute_reply": "2023-05-08T09:15:00.448208Z",
     "shell.execute_reply.started": "2023-05-08T09:14:59.909276Z"
    }
   },
   "outputs": [
    {
     "name": "stderr",
     "output_type": "stream",
     "text": [
      "2023-05-08 09:14:59.953717: E tensorflow/compiler/xla/stream_executor/cuda/cuda_driver.cc:267] failed call to cuInit: CUDA_ERROR_NO_DEVICE: no CUDA-capable device is detected\n"
     ]
    }
   ],
   "source": [
    "model = tf.keras.models.Sequential([\n",
    "  tf.keras.layers.Conv2D(32, (3,3), activation='relu', input_shape=(128, 128, 1)),\n",
    "  tf.keras.layers.BatchNormalization(),\n",
    "  tf.keras.layers.Conv2D(32, (2,2), activation='relu'),\n",
    "  tf.keras.layers.BatchNormalization(),\n",
    "  tf.keras.layers.MaxPooling2D((2,2)),\n",
    "  \n",
    "  tf.keras.layers.Flatten(),\n",
    "    \n",
    "  tf.keras.layers.Dense(128, activation='relu'),\n",
    "  tf.keras.layers.Dropout(0.5),\n",
    "    \n",
    "  tf.keras.layers.Dense(96, activation='relu'),\n",
    "  tf.keras.layers.Dropout(0.5),\n",
    "  tf.keras.layers.Dense(64, activation='relu'),\n",
    "  tf.keras.layers.Dense(27, activation='softmax')\n",
    "])\n"
   ]
  },
  {
   "cell_type": "code",
   "execution_count": 8,
   "metadata": {
    "execution": {
     "iopub.execute_input": "2023-05-08T09:15:08.864019Z",
     "iopub.status.busy": "2023-05-08T09:15:08.863672Z",
     "iopub.status.idle": "2023-05-08T09:15:08.869091Z",
     "shell.execute_reply": "2023-05-08T09:15:08.868221Z",
     "shell.execute_reply.started": "2023-05-08T09:15:08.863989Z"
    }
   },
   "outputs": [
    {
     "name": "stdout",
     "output_type": "stream",
     "text": [
      "Number of images in the training set: 12150\n",
      "Number of images in the test set: 4050\n"
     ]
    }
   ],
   "source": [
    "train_set_size = training_set.samples\n",
    "test_set_size = test_set.samples\n",
    "print(\"Number of images in the training set:\", train_set_size)\n",
    "print(\"Number of images in the test set:\", test_set_size)"
   ]
  },
  {
   "cell_type": "code",
   "execution_count": null,
   "metadata": {
    "execution": {
     "iopub.execute_input": "2023-05-08T09:15:14.188073Z",
     "iopub.status.busy": "2023-05-08T09:15:14.187432Z"
    }
   },
   "outputs": [
    {
     "name": "stdout",
     "output_type": "stream",
     "text": [
      "Epoch 1/10\n",
      "1215/1215 [==============================] - 646s 531ms/step - loss: 3.5684 - accuracy: 0.0649 - val_loss: 5.8601 - val_accuracy: 0.1165\n",
      "Epoch 2/10\n",
      "1215/1215 [==============================] - 638s 525ms/step - loss: 3.1931 - accuracy: 0.0788 - val_loss: 3.6450 - val_accuracy: 0.1128\n",
      "Epoch 3/10\n",
      "1215/1215 [==============================] - 647s 532ms/step - loss: 3.1556 - accuracy: 0.0863 - val_loss: 3.2759 - val_accuracy: 0.1190\n",
      "Epoch 4/10\n",
      "1215/1215 [==============================] - 651s 536ms/step - loss: 3.1343 - accuracy: 0.0897 - val_loss: 3.0210 - val_accuracy: 0.1109\n",
      "Epoch 5/10\n",
      " 298/1215 [======>.......................] - ETA: 7:59 - loss: 3.0891 - accuracy: 0.0990"
     ]
    }
   ],
   "source": [
    "optimizer = tf.keras.optimizers.Adam\n",
    "\n",
    "model.compile(optimizer='adam', loss='categorical_crossentropy', metrics=['accuracy'])\n",
    "\n",
    "\n",
    "history = model.fit(training_set,steps_per_epoch=12150, epochs=5, validation_data=test_set,validation_steps=40, verbose=1)"
   ]
  }
 ],
 "metadata": {
  "kernelspec": {
   "display_name": "Python 3 (ipykernel)",
   "language": "python",
   "name": "python3"
  },
  "language_info": {
   "codemirror_mode": {
    "name": "ipython",
    "version": 3
   },
   "file_extension": ".py",
   "mimetype": "text/x-python",
   "name": "python",
   "nbconvert_exporter": "python",
   "pygments_lexer": "ipython3",
   "version": "3.10.4"
  }
 },
 "nbformat": 4,
 "nbformat_minor": 4
}
