{
 "metadata": {
  "kernelspec": {
   "language": "python",
   "display_name": "Python 3",
   "name": "python3"
  },
  "language_info": {
   "name": "python",
   "version": "3.10.10",
   "mimetype": "text/x-python",
   "codemirror_mode": {
    "name": "ipython",
    "version": 3
   },
   "pygments_lexer": "ipython3",
   "nbconvert_exporter": "python",
   "file_extension": ".py"
  }
 },
 "nbformat_minor": 4,
 "nbformat": 4,
 "cells": [
  {
   "cell_type": "code",
   "source": [
    "import tensorflow as tf\n",
    "from tensorflow.keras.models import Sequential\n",
    "from tensorflow.keras.layers import Dense, Dropout, Activation, Flatten, Conv2D, MaxPooling2D, InputLayer\n",
    "from tensorflow.keras.preprocessing.image import ImageDataGenerator\n",
    "import os"
   ],
   "metadata": {
    "execution": {
     "iopub.status.busy": "2023-05-09T19:19:07.550822Z",
     "iopub.execute_input": "2023-05-09T19:19:07.551402Z",
     "iopub.status.idle": "2023-05-09T19:19:07.557014Z",
     "shell.execute_reply.started": "2023-05-09T19:19:07.551370Z",
     "shell.execute_reply": "2023-05-09T19:19:07.555935Z"
    },
    "trusted": true,
    "pycharm": {
     "name": "#%%\n"
    }
   },
   "execution_count": 5,
   "outputs": []
  },
  {
   "cell_type": "code",
   "source": [
    "os.environ[\"CUDA_VISIBLE_DEVICES\"] = \"1\""
   ],
   "metadata": {
    "execution": {
     "iopub.status.busy": "2023-05-09T19:19:09.928626Z",
     "iopub.execute_input": "2023-05-09T19:19:09.929669Z",
     "iopub.status.idle": "2023-05-09T19:19:09.933781Z",
     "shell.execute_reply.started": "2023-05-09T19:19:09.929629Z",
     "shell.execute_reply": "2023-05-09T19:19:09.932877Z"
    },
    "trusted": true,
    "pycharm": {
     "name": "#%%\n"
    }
   },
   "execution_count": 6,
   "outputs": []
  },
  {
   "cell_type": "code",
   "source": [
    "img_height = 128\n",
    "img_width = 128\n",
    "batch_size = 5"
   ],
   "metadata": {
    "execution": {
     "iopub.status.busy": "2023-05-09T19:19:13.264541Z",
     "iopub.execute_input": "2023-05-09T19:19:13.264927Z",
     "iopub.status.idle": "2023-05-09T19:19:13.272239Z",
     "shell.execute_reply.started": "2023-05-09T19:19:13.264874Z",
     "shell.execute_reply": "2023-05-09T19:19:13.270988Z"
    },
    "trusted": true,
    "pycharm": {
     "name": "#%%\n"
    }
   },
   "execution_count": 7,
   "outputs": []
  },
  {
   "cell_type": "code",
   "source": [
    "train_datagen = tf.keras.preprocessing.image.ImageDataGenerator(\n",
    "        rescale=1./255,\n",
    "        rotation_range=10,\n",
    "        shear_range=0.2,\n",
    "        zoom_range=0.2,\n",
    "        horizontal_flip=True)\n",
    "\n",
    "test_datagen = tf.keras.preprocessing.image.ImageDataGenerator(rescale=1./255)\n",
    "\n",
    "training_set = train_datagen.flow_from_directory('/kaggle/input/isl-sls/data1/train',\n",
    "                                                 class_mode = 'categorical',\n",
    "                                                 batch_size = batch_size,\n",
    "                                                 target_size = (img_height, img_width),\n",
    "                                                 shuffle = True,\n",
    "                                                 color_mode='grayscale',\n",
    "                                                 )\n",
    "\n",
    "test_set = test_datagen.flow_from_directory('/kaggle/input/isl-sls/data1/test',\n",
    "                                            class_mode = 'categorical',\n",
    "                                            batch_size = batch_size,\n",
    "                                            target_size = (img_height, img_width),\n",
    "                                            shuffle = True,\n",
    "                                            color_mode='grayscale',\n",
    "                                            )"
   ],
   "metadata": {
    "execution": {
     "iopub.status.busy": "2023-05-09T19:19:15.553017Z",
     "iopub.execute_input": "2023-05-09T19:19:15.553388Z",
     "iopub.status.idle": "2023-05-09T19:19:17.120846Z",
     "shell.execute_reply.started": "2023-05-09T19:19:15.553357Z",
     "shell.execute_reply": "2023-05-09T19:19:17.119949Z"
    },
    "trusted": true,
    "pycharm": {
     "name": "#%%\n"
    }
   },
   "execution_count": 8,
   "outputs": [
    {
     "name": "stdout",
     "text": "Found 12150 images belonging to 27 classes.\nFound 4050 images belonging to 27 classes.\n",
     "output_type": "stream"
    }
   ]
  },
  {
   "cell_type": "code",
   "source": [
    "model = Sequential() #a sequential cnn model to create\n",
    "\n",
    "#added a neuron to network\n",
    "model.add(Conv2D(32,(2,2), input_shape=(128, 128, 1)))\n",
    "model.add(Activation('relu'))\n",
    "model.add(MaxPooling2D(pool_size=(3,3)))\n",
    "\n",
    "model.add(Conv2D(64,(2,2)))\n",
    "model.add(Activation('relu'))\n",
    "model.add(MaxPooling2D(pool_size=(3,3)))\n",
    "\n",
    "model.add(Conv2D(128 ,(2,2)))\n",
    "model.add(Activation('relu'))\n",
    "model.add(MaxPooling2D(pool_size=(3,3)))\n",
    "\n",
    "#flattening image data\n",
    "model.add(Flatten())\n",
    "\n",
    "model.add(Dense(256))\n",
    "model.add(Activation('relu'))\n",
    "model.add(Dropout(0.2))\n",
    "model.add(Dense(27))#extra 1 output to find if no alphabet is detected 26 alphabets\n",
    "model.add(Activation('softmax'))#activation function"
   ],
   "metadata": {
    "execution": {
     "iopub.status.busy": "2023-05-09T19:19:19.888783Z",
     "iopub.execute_input": "2023-05-09T19:19:19.889517Z",
     "iopub.status.idle": "2023-05-09T19:19:23.087682Z",
     "shell.execute_reply.started": "2023-05-09T19:19:19.889480Z",
     "shell.execute_reply": "2023-05-09T19:19:23.086654Z"
    },
    "trusted": true,
    "pycharm": {
     "name": "#%%\n"
    }
   },
   "execution_count": 9,
   "outputs": []
  },
  {
   "cell_type": "code",
   "source": [
    "train_set_size = training_set.samples\n",
    "test_set_size = test_set.samples\n",
    "print(\"Number of images in the training set:\", train_set_size)\n",
    "print(\"Number of images in the test set:\", test_set_size)"
   ],
   "metadata": {
    "execution": {
     "iopub.status.busy": "2023-05-09T19:19:26.998146Z",
     "iopub.execute_input": "2023-05-09T19:19:26.998542Z",
     "iopub.status.idle": "2023-05-09T19:19:27.006612Z",
     "shell.execute_reply.started": "2023-05-09T19:19:26.998509Z",
     "shell.execute_reply": "2023-05-09T19:19:27.004554Z"
    },
    "trusted": true,
    "pycharm": {
     "name": "#%%\n"
    }
   },
   "execution_count": 10,
   "outputs": [
    {
     "name": "stdout",
     "text": "Number of images in the training set: 12150\nNumber of images in the test set: 4050\n",
     "output_type": "stream"
    }
   ]
  },
  {
   "cell_type": "code",
   "source": [
    "optimizer = tf.keras.optimizers.Adam(learning_rate=1e-7)\n",
    "\n",
    "model.compile(optimizer='adam', loss='categorical_crossentropy', metrics=['accuracy'])\n",
    "\n",
    "model.summary()\n"
   ],
   "metadata": {
    "execution": {
     "iopub.status.busy": "2023-05-09T19:19:30.078172Z",
     "iopub.execute_input": "2023-05-09T19:19:30.078542Z",
     "iopub.status.idle": "2023-05-09T19:19:30.137116Z",
     "shell.execute_reply.started": "2023-05-09T19:19:30.078511Z",
     "shell.execute_reply": "2023-05-09T19:19:30.136347Z"
    },
    "trusted": true,
    "pycharm": {
     "name": "#%%\n"
    }
   },
   "execution_count": 11,
   "outputs": [
    {
     "name": "stdout",
     "text": "Model: \"sequential\"\n_________________________________________________________________\n Layer (type)                Output Shape              Param #   \n=================================================================\n conv2d (Conv2D)             (None, 127, 127, 32)      160       \n                                                                 \n activation (Activation)     (None, 127, 127, 32)      0         \n                                                                 \n max_pooling2d (MaxPooling2D  (None, 42, 42, 32)       0         \n )                                                               \n                                                                 \n conv2d_1 (Conv2D)           (None, 41, 41, 64)        8256      \n                                                                 \n activation_1 (Activation)   (None, 41, 41, 64)        0         \n                                                                 \n max_pooling2d_1 (MaxPooling  (None, 13, 13, 64)       0         \n 2D)                                                             \n                                                                 \n conv2d_2 (Conv2D)           (None, 12, 12, 128)       32896     \n                                                                 \n activation_2 (Activation)   (None, 12, 12, 128)       0         \n                                                                 \n max_pooling2d_2 (MaxPooling  (None, 4, 4, 128)        0         \n 2D)                                                             \n                                                                 \n flatten (Flatten)           (None, 2048)              0         \n                                                                 \n dense (Dense)               (None, 256)               524544    \n                                                                 \n activation_3 (Activation)   (None, 256)               0         \n                                                                 \n dropout (Dropout)           (None, 256)               0         \n                                                                 \n dense_1 (Dense)             (None, 27)                6939      \n                                                                 \n activation_4 (Activation)   (None, 27)                0         \n                                                                 \n=================================================================\nTotal params: 572,795\nTrainable params: 572,795\nNon-trainable params: 0\n_________________________________________________________________\n",
     "output_type": "stream"
    }
   ]
  },
  {
   "cell_type": "code",
   "source": [
    "history = model.fit(training_set, epochs=2, validation_data=test_set, verbose=1)"
   ],
   "metadata": {
    "execution": {
     "iopub.status.busy": "2023-05-09T19:19:40.656933Z",
     "iopub.execute_input": "2023-05-09T19:19:40.657899Z",
     "iopub.status.idle": "2023-05-09T19:22:13.480294Z",
     "shell.execute_reply.started": "2023-05-09T19:19:40.657861Z",
     "shell.execute_reply": "2023-05-09T19:22:13.479191Z"
    },
    "trusted": true,
    "pycharm": {
     "name": "#%%\n"
    }
   },
   "execution_count": 12,
   "outputs": [
    {
     "name": "stdout",
     "text": "Epoch 1/2\n2430/2430 [==============================] - 99s 36ms/step - loss: 0.4293 - accuracy: 0.8714 - val_loss: 0.0022 - val_accuracy: 0.9993\nEpoch 2/2\n2430/2430 [==============================] - 54s 22ms/step - loss: 0.0320 - accuracy: 0.9900 - val_loss: 3.2684e-05 - val_accuracy: 1.0000\n",
     "output_type": "stream"
    }
   ]
  },
  {
   "cell_type": "code",
   "source": [
    "score = model.evaluate(test_set, steps=len(test_set))\n",
    "print('Test accuracy:', score[1])"
   ],
   "metadata": {
    "execution": {
     "iopub.status.busy": "2023-05-09T19:22:40.918781Z",
     "iopub.execute_input": "2023-05-09T19:22:40.919173Z",
     "iopub.status.idle": "2023-05-09T19:22:51.219794Z",
     "shell.execute_reply.started": "2023-05-09T19:22:40.919141Z",
     "shell.execute_reply": "2023-05-09T19:22:51.218744Z"
    },
    "trusted": true,
    "pycharm": {
     "name": "#%%\n"
    }
   },
   "execution_count": 13,
   "outputs": [
    {
     "name": "stdout",
     "text": "810/810 [==============================] - 8s 10ms/step - loss: 3.2684e-05 - accuracy: 1.0000\nTest accuracy: 1.0\n",
     "output_type": "stream"
    }
   ]
  },
  {
   "cell_type": "code",
   "source": [
    "model_json = model.to_json()\n",
    "with open(\"model-bw.json\", \"w\") as json_file:\n",
    "    json_file.write(model_json)\n",
    "print('Model Saved')\n",
    "model.save_weights('model-bw.h5')\n",
    "print('Weights saved')"
   ],
   "metadata": {
    "execution": {
     "iopub.status.busy": "2023-05-09T19:23:39.399822Z",
     "iopub.execute_input": "2023-05-09T19:23:39.400568Z",
     "iopub.status.idle": "2023-05-09T19:23:39.446444Z",
     "shell.execute_reply.started": "2023-05-09T19:23:39.400529Z",
     "shell.execute_reply": "2023-05-09T19:23:39.445335Z"
    },
    "trusted": true,
    "pycharm": {
     "name": "#%%\n"
    }
   },
   "execution_count": 15,
   "outputs": [
    {
     "name": "stdout",
     "text": "Model Saved\nWeights saved\n",
     "output_type": "stream"
    }
   ]
  }
 ]
}